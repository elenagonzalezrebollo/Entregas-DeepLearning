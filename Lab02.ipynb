{
  "cells": [
    {
      "cell_type": "markdown",
      "metadata": {
        "id": "3jgyULUy0H5l"
      },
      "source": [
        "# Practica 2 \n",
        "### Javier Arteaga y Elena Gonzalez"
      ]
    },
    {
      "cell_type": "markdown",
      "metadata": {},
      "source": [
        "Se instalan paquetes"
      ]
    },
    {
      "cell_type": "code",
      "execution_count": null,
      "metadata": {
        "id": "YMa1-qC78lYz",
        "outputId": "6f772e46-b1a1-4e45-8db7-07fcab6b871d"
      },
      "outputs": [
        {
          "name": "stderr",
          "output_type": "stream",
          "text": [
            "ERROR: Could not find a version that satisfies the requirement MultiHeadAttention (from versions: none)\n",
            "ERROR: No matching distribution found for MultiHeadAttention\n",
            "\n",
            "[notice] A new release of pip available: 22.3 -> 24.0\n",
            "[notice] To update, run: python.exe -m pip install --upgrade pip\n"
          ]
        }
      ],
      "source": [
        "!pip install MultiHeadAttention"
      ]
    },
    {
      "cell_type": "markdown",
      "metadata": {
        "id": "8tj48HtQ_LQ4"
      },
      "source": [
        "Se cargan las librerias"
      ]
    },
    {
      "cell_type": "code",
      "execution_count": null,
      "metadata": {
        "id": "ywqUi5CG8lY2"
      },
      "outputs": [],
      "source": [
        "import tensorflow as tf\n",
        "from tensorflow.keras.layers import MultiHeadAttention\n",
        "import os, pathlib, shutil, random\n",
        "from tensorflow import keras\n",
        "from tensorflow.keras import layers\n",
        "import torch"
      ]
    },
    {
      "cell_type": "markdown",
      "metadata": {},
      "source": [
        "Se ejecuta con la gráfica en local"
      ]
    },
    {
      "cell_type": "code",
      "execution_count": null,
      "metadata": {
        "id": "9Iwbjb-I8lY2",
        "outputId": "a125eab4-6973-40cc-c27b-69e7fb4bf38c"
      },
      "outputs": [
        {
          "name": "stdout",
          "output_type": "stream",
          "text": [
            "Using device: cuda\n"
          ]
        }
      ],
      "source": [
        "device = 'cuda' if torch.cuda.is_available() else 'cpu'\n",
        "print(f'Using device: {device}')"
      ]
    },
    {
      "cell_type": "markdown",
      "metadata": {
        "id": "PfGlmLSbCq7a"
      },
      "source": [
        "Se define la función self_attention"
      ]
    },
    {
      "cell_type": "code",
      "execution_count": null,
      "metadata": {
        "id": "WSZ8iPR3jUuU"
      },
      "outputs": [],
      "source": [
        "def self_attention(input_sequence):\n",
        "    output = np.zeros(shape=input_sequence.shape)\n",
        "    # Itera sobre cada token en la secuencia de entrada\n",
        "    for i, pivot_vector in enumerate(input_sequence):\n",
        "        scores = np.zeros(shape=(len(input_sequence),))\n",
        "        for j, vector in enumerate(input_sequence):\n",
        "            # Computa el producto escalar (attention score) entre el\n",
        "            # token que estamos tratando y cada uno de los demás tokens\n",
        "            scores[j] = np.dot(pivot_vector, vector.T)\n",
        "        # Escalamos por un factor de normalización y aplicamos softmax\n",
        "        scores /= np.sqrt(input_sequence.shape[1])\n",
        "        scores = softmax(scores)\n",
        "        new_pivot_representation = np.zeros(shape=pivot_vector.shape)\n",
        "        for j, vector in enumerate(input_sequence):\n",
        "            # Tomamos la suma de todas los tokens\n",
        "            # ponderados por los attention scores\n",
        "            new_pivot_representation += vector * scores[j]\n",
        "        # Esa suma es la salida\n",
        "        output[i] = new_pivot_representation\n",
        "    return output"
      ]
    },
    {
      "cell_type": "markdown",
      "metadata": {
        "id": "42AIxDVxAj-s"
      },
      "source": [
        "Se definen los inputs y outputs y se crea una capa de atención de múltiples cabezas (MultiHeadAttention) con un número de cabezas dado por num_heads y una dimensión clave especificada por embed_dim."
      ]
    },
    {
      "cell_type": "code",
      "execution_count": null,
      "metadata": {
        "id": "pRnlOR1Klbej"
      },
      "outputs": [],
      "source": [
        "num_heads = 4 \n",
        "embed_dim = 256\n",
        "seq_length = 10 \n",
        "\n",
        "inputs = tf.random.uniform((32, seq_length, embed_dim))\n",
        "mha_layer = MultiHeadAttention(num_heads=num_heads, key_dim=embed_dim)\n",
        "outputs = mha_layer(inputs, inputs, inputs)"
      ]
    },
    {
      "cell_type": "markdown",
      "metadata": {
        "id": "iP2TDoxe0H5l"
      },
      "source": [
        "**Obtenemos los datos**"
      ]
    },
    {
      "cell_type": "markdown",
      "metadata": {
        "id": "WxpsPnhv_5Kk"
      },
      "source": [
        "Se cargan nuestros nuestros datos, donde Reuters dataset es un conjunto de noticias breves y sus temas, publicado por Reuters en 1986. Son 46 temas diferentes"
      ]
    },
    {
      "cell_type": "code",
      "execution_count": null,
      "metadata": {
        "id": "8Kz9bBTK8lY4"
      },
      "outputs": [],
      "source": [
        "from keras.datasets import reuters\n",
        "(train_data, train_labels), (test_data, test_labels) = reuters.load_data(num_words=10000)"
      ]
    },
    {
      "cell_type": "markdown",
      "metadata": {
        "id": "4tfkaflR_tmG"
      },
      "source": [
        "Se separan los datos de entranamiento de los datos de test, cogiendo un 80% para entrenar y el 20% restante para pruebas"
      ]
    },
    {
      "cell_type": "code",
      "execution_count": null,
      "metadata": {
        "id": "7gozcGUR8lY5"
      },
      "outputs": [],
      "source": [
        "from sklearn.model_selection import train_test_split\n",
        "\n",
        "train_data, val_data, train_labels, val_labels = train_test_split(\n",
        "    train_data, train_labels, test_size=0.2, random_state=42, stratify=train_labels)"
      ]
    },
    {
      "cell_type": "markdown",
      "metadata": {
        "id": "slrVIu0tCO2Z"
      },
      "source": [
        "Se ajustan las longitudes calculando la noticia con mayor longitud y posteriormente se aplica el relleno/truncado a las otras secuencias."
      ]
    },
    {
      "cell_type": "code",
      "execution_count": null,
      "metadata": {
        "id": "qhATLMTk8lY5"
      },
      "outputs": [],
      "source": [
        "lengths = [len(text) for text in train_data]\n",
        "max_length = round(sum(lengths) / len(lengths))\n",
        "\n",
        "train_data = tf.keras.preprocessing.sequence.pad_sequences(train_data, maxlen=max_length, padding='post')\n",
        "val_data = tf.keras.preprocessing.sequence.pad_sequences(val_data, maxlen=max_length, padding='post')\n",
        "test_data = tf.keras.preprocessing.sequence.pad_sequences(test_data, maxlen=max_length, padding='post')"
      ]
    },
    {
      "cell_type": "markdown",
      "metadata": {
        "id": "4tjKn6V0BPwe"
      },
      "source": [
        "Se obtiene el índice de palabras y se invierte el indice de estas para obtener los índices de cada palabra (casa-->76)\n",
        "\n",
        "Además se decodifican las secuencias"
      ]
    },
    {
      "cell_type": "code",
      "execution_count": null,
      "metadata": {
        "id": "Scoo0dhs8lY5"
      },
      "outputs": [],
      "source": [
        "word_index = reuters.get_word_index()\n",
        "\n",
        "reverse_word_index = dict([(value, key) for (key, value) in word_index.items()])\n",
        "\n",
        "def decode_sequences(sequences):\n",
        "    return [' '.join([reverse_word_index.get(i - 3, '?') for i in sequence]) for sequence in sequences]\n",
        "\n",
        "decoded_train_news = decode_sequences(train_data)\n",
        "decoded_test_news = decode_sequences(test_data)\n",
        "decoded_val_news = decode_sequences(val_data)"
      ]
    },
    {
      "cell_type": "markdown",
      "metadata": {
        "id": "onAZvZeiB2OR"
      },
      "source": [
        "Se configuran los  conjuntos de datos de TensorFlow para entrenamiento, prueba y validación, ajustando el tamaño de lote y optimizando la velocidad de entrenamiento mediante la precarga asincrónica de datos utilizando prefetch.\n",
        "\n",
        "La constante AUTOTUNE permite a TensorFlow determinar automáticamente la cantidad óptima de elementos para precargar, mejorando así la eficiencia del proceso"
      ]
    },
    {
      "cell_type": "code",
      "execution_count": null,
      "metadata": {
        "id": "flQh7hGB0H5m"
      },
      "outputs": [],
      "source": [
        "int_train_ds = tf.data.Dataset.from_tensor_slices((train_data, train_labels))\n",
        "int_test_ds = tf.data.Dataset.from_tensor_slices((test_data, test_labels))\n",
        "int_val_ds = tf.data.Dataset.from_tensor_slices((val_data, val_labels))\n",
        "\n",
        "batch_size = 32 \n",
        "int_train_ds = int_train_ds.batch(batch_size)\n",
        "int_test_ds = int_test_ds.batch(batch_size)\n",
        "int_val_ds = int_val_ds.batch(batch_size)\n",
        "\n",
        "int_train_ds = int_train_ds.prefetch(tf.data.experimental.AUTOTUNE)\n",
        "int_test_dsest_ds = int_test_ds.prefetch(tf.data.experimental.AUTOTUNE)\n",
        "int_val_ds = int_val_ds.prefetch(tf.data.experimental.AUTOTUNE)\n"
      ]
    },
    {
      "cell_type": "markdown",
      "metadata": {
        "id": "IA8xGjQ5A67k"
      },
      "source": [
        "Se verifica que la forma de nuetros datos es correcta"
      ]
    },
    {
      "cell_type": "code",
      "execution_count": null,
      "metadata": {
        "id": "SKh1IDBs8lY7",
        "outputId": "5c9e0a74-2a76-4d1c-e350-f7bc8a6f710f"
      },
      "outputs": [
        {
          "name": "stdout",
          "output_type": "stream",
          "text": [
            "(32, 146)\n",
            "(146,)\n"
          ]
        }
      ],
      "source": [
        "for data, labels in int_val_ds.take(1):\n",
        "    print(data.shape)\n",
        "    print(data[0].shape)"
      ]
    },
    {
      "cell_type": "markdown",
      "metadata": {},
      "source": [
        "Se crea la clase TransformerEncoder"
      ]
    },
    {
      "cell_type": "code",
      "execution_count": null,
      "metadata": {
        "id": "qzIqOhq60H5m"
      },
      "outputs": [],
      "source": [
        "class TransformerEncoder(layers.Layer):\n",
        "    def __init__(self, embed_dim, dense_dim, num_heads, **kwargs):\n",
        "        super().__init__(**kwargs)\n",
        "        # Tamaño de los vectores de los tokens de entrada\n",
        "        self.embed_dim = embed_dim\n",
        "        # Tamaño de la capa densa interna\n",
        "        self.dense_dim = dense_dim\n",
        "        # Número de attention heads\n",
        "        self.num_heads = num_heads\n",
        "        self.attention = layers.MultiHeadAttention(\n",
        "            num_heads=num_heads, key_dim=embed_dim)\n",
        "        self.dense_proj = keras.Sequential(\n",
        "            [layers.Dense(dense_dim, activation=\"relu\"),\n",
        "             layers.Dense(embed_dim),]\n",
        "        )\n",
        "        self.layernorm_1 = layers.LayerNormalization()\n",
        "        self.layernorm_2 = layers.LayerNormalization()\n",
        "\n",
        "    # El cálculo va en call()\n",
        "    def call(self, inputs, mask=None):\n",
        "        # La máscara que generará la capa Embedding\n",
        "        # será 2D, pero la capa de atención espera\n",
        "        # ser 3D o 4D, por lo que ampliamos su rango\n",
        "        if mask is not None:\n",
        "            mask = mask[:, tf.newaxis, :]\n",
        "        attention_output = self.attention(\n",
        "            inputs, inputs, attention_mask=mask)\n",
        "        proj_input = self.layernorm_1(inputs + attention_output)\n",
        "        proj_output = self.dense_proj(proj_input)\n",
        "        return self.layernorm_2(proj_input + proj_output)\n",
        "\n",
        "    # Implementamos la serialización para\n",
        "    # que podamos guardar el modelo\n",
        "    def get_config(self):\n",
        "        config = super().get_config()\n",
        "        config.update({\n",
        "            \"embed_dim\": self.embed_dim,\n",
        "            \"num_heads\": self.num_heads,\n",
        "            \"dense_dim\": self.dense_dim,\n",
        "        })\n",
        "        return config"
      ]
    },
    {
      "cell_type": "markdown",
      "metadata": {},
      "source": [
        "Se crea la clase PositionalEmbedding"
      ]
    },
    {
      "cell_type": "code",
      "execution_count": null,
      "metadata": {
        "id": "jK4VaM5G8lY7"
      },
      "outputs": [],
      "source": [
        "class PositionalEmbedding(layers.Layer):\n",
        "    # Una desventaja de las incrustaciones de posición es que\n",
        "    # la longitud de la secuencia debe conocerse de antemano\n",
        "    def __init__(self, sequence_length, input_dim, output_dim, **kwargs):\n",
        "        super().__init__(**kwargs)\n",
        "        # Prepara una capa de embedding para los índices de token.\n",
        "        self.token_embeddings = layers.Embedding(\n",
        "            input_dim=input_dim, output_dim=output_dim)\n",
        "        self.position_embeddings = layers.Embedding(\n",
        "            # Y otro para las posiciones te tokens\n",
        "            input_dim=sequence_length, output_dim=output_dim)\n",
        "        self.sequence_length = sequence_length\n",
        "        self.input_dim = input_dim\n",
        "        self.output_dim = output_dim\n",
        "\n",
        "    def call(self, inputs):\n",
        "        length = tf.shape(inputs)[-1]\n",
        "        positions = tf.range(start=0, limit=length, delta=1)\n",
        "        embedded_tokens = self.token_embeddings(inputs)\n",
        "        embedded_positions = self.position_embeddings(positions)\n",
        "        # Agrega ambos vectores embeddings juntos\n",
        "        return embedded_tokens + embedded_positions\n",
        "\n",
        "    def compute_mask(self, inputs, mask=None):\n",
        "        # Al igual que la capa de embedding,\n",
        "        # esta capa debería poder generar una\n",
        "        # máscara para que podamos ignorar los\n",
        "        # ceros de relleno en las entradas.\n",
        "        # El framework llamará automáticamente\n",
        "        # al método compute_mask y la máscara\n",
        "        # se propagará a la siguiente capa.\n",
        "        return tf.math.not_equal(inputs, 0)\n",
        "\n",
        "    # Implementamos la serialización para que\n",
        "    # podamos guardar el modelo.\n",
        "    def get_config(self):\n",
        "        config = super().get_config()\n",
        "        # config = super(PositionalEmbedding, self).get_config()\n",
        "        config.update({\n",
        "            \"output_dim\": self.output_dim,\n",
        "            \"sequence_length\": self.sequence_length,\n",
        "            \"input_dim\": self.input_dim,\n",
        "        })\n",
        "        return config"
      ]
    },
    {
      "cell_type": "markdown",
      "metadata": {
        "id": "V_l2610WDAnD"
      },
      "source": [
        "# Creacion de los Modelos"
      ]
    },
    {
      "cell_type": "markdown",
      "metadata": {
        "id": "pWsa68ttDHDL"
      },
      "source": [
        "Se van a probar distintas configuraciones para ver cuál de todas es la más óptima"
      ]
    },
    {
      "cell_type": "markdown",
      "metadata": {
        "id": "9vlKlewW8lY7"
      },
      "source": [
        "## Modelo 1\n"
      ]
    },
    {
      "cell_type": "markdown",
      "metadata": {
        "id": "nOwzXNKmD-S5"
      },
      "source": [
        "En este primer modelo hemos optado por un bajo número de cabezas y dimension densa, sin embargo por aumentar considerablemente el numero del embed_dim"
      ]
    },
    {
      "cell_type": "code",
      "execution_count": null,
      "metadata": {
        "id": "P_59p03W8lY7"
      },
      "outputs": [],
      "source": [
        "vocab_size = 100000\n",
        "dense_dim = 24\n",
        "embed_dim = 256\n",
        "num_heads = 2"
      ]
    },
    {
      "cell_type": "markdown",
      "metadata": {
        "id": "9tZy56j7EVQE"
      },
      "source": [
        "Por lo general el mejor dropout es 0.5 por lo cual hacemos pruebas con este.\n",
        "Se utiliza además el optimizador rmsprop muy usado en estos tipos de ejercicios"
      ]
    },
    {
      "cell_type": "code",
      "execution_count": null,
      "metadata": {
        "id": "G276bQSa8lY7",
        "outputId": "8aad39ca-5fe9-4142-c27e-035a1863e304"
      },
      "outputs": [
        {
          "name": "stdout",
          "output_type": "stream",
          "text": [
            "Model: \"model_10\"\n",
            "_________________________________________________________________\n",
            " Layer (type)                Output Shape              Param #   \n",
            "=================================================================\n",
            " input_12 (InputLayer)       [(None, None)]            0         \n",
            "                                                                 \n",
            " positional_embedding_10 (P  (None, None, 150)         15021900  \n",
            " ositionalEmbedding)                                             \n",
            "                                                                 \n",
            " transformer_encoder_10 (Tr  (None, None, 150)         381964    \n",
            " ansformerEncoder)                                               \n",
            "                                                                 \n",
            " global_max_pooling1d_10 (G  (None, 150)               0         \n",
            " lobalMaxPooling1D)                                              \n",
            "                                                                 \n",
            " dropout_14 (Dropout)        (None, 150)               0         \n",
            "                                                                 \n",
            " dense_32 (Dense)            (None, 46)                6946      \n",
            "                                                                 \n",
            "=================================================================\n",
            "Total params: 15410810 (58.79 MB)\n",
            "Trainable params: 15410810 (58.79 MB)\n",
            "Non-trainable params: 0 (0.00 Byte)\n",
            "_________________________________________________________________\n"
          ]
        }
      ],
      "source": [
        "inputs = keras.Input(shape=(None,), dtype=\"int64\")\n",
        "x = layers.Embedding(vocab_size, embed_dim)(inputs)\n",
        "x = PositionalEmbedding(max_length, vocab_size, embed_dim)(inputs)\n",
        "x = TransformerEncoder(embed_dim, dense_dim, num_heads)(x)\n",
        "x = layers.GlobalMaxPooling1D()(x)\n",
        "x = layers.Dropout(0.5)(x)\n",
        "outputs = layers.Dense(46, activation=\"softmax\")(x)\n",
        "\n",
        "model = keras.Model(inputs, outputs)\n",
        "model.compile(optimizer=\"rmsprop\",\n",
        "              loss=\"sparse_categorical_crossentropy\",\n",
        "              metrics=[\"accuracy\"])\n",
        "model.summary()"
      ]
    },
    {
      "cell_type": "markdown",
      "metadata": {
        "id": "FuQ1HH6LEj7R"
      },
      "source": [
        "Se aplican 10 épocas para ir viendo como se desenvuelve este modelo"
      ]
    },
    {
      "cell_type": "code",
      "execution_count": null,
      "metadata": {
        "id": "2xcKfzzN8lY8",
        "outputId": "f8f894ee-04e0-4c9a-ff04-57209567543d"
      },
      "outputs": [
        {
          "name": "stdout",
          "output_type": "stream",
          "text": [
            "Epoch 1/10\n"
          ]
        },
        {
          "name": "stdout",
          "output_type": "stream",
          "text": [
            "225/225 [==============================] - 20s 85ms/step - loss: 2.2300 - accuracy: 0.5002 - val_loss: 1.5763 - val_accuracy: 0.6305\n",
            "Epoch 2/10\n",
            "225/225 [==============================] - 19s 85ms/step - loss: 1.4234 - accuracy: 0.6722 - val_loss: 1.1961 - val_accuracy: 0.7245\n",
            "Epoch 3/10\n",
            "225/225 [==============================] - 19s 85ms/step - loss: 1.1130 - accuracy: 0.7356 - val_loss: 1.0859 - val_accuracy: 0.7462\n",
            "Epoch 4/10\n",
            "225/225 [==============================] - 18s 81ms/step - loss: 0.9082 - accuracy: 0.7859 - val_loss: 1.0630 - val_accuracy: 0.7373\n",
            "Epoch 5/10\n",
            "225/225 [==============================] - 18s 81ms/step - loss: 0.7736 - accuracy: 0.8110 - val_loss: 1.0904 - val_accuracy: 0.7457\n",
            "Epoch 6/10\n",
            "225/225 [==============================] - 18s 82ms/step - loss: 0.6480 - accuracy: 0.8377 - val_loss: 1.0958 - val_accuracy: 0.7585\n",
            "Epoch 7/10\n",
            "225/225 [==============================] - 19s 86ms/step - loss: 0.5565 - accuracy: 0.8607 - val_loss: 1.2041 - val_accuracy: 0.7579\n",
            "Epoch 8/10\n",
            "225/225 [==============================] - 18s 81ms/step - loss: 0.4808 - accuracy: 0.8807 - val_loss: 1.1808 - val_accuracy: 0.7696\n",
            "Epoch 9/10\n",
            "225/225 [==============================] - 18s 82ms/step - loss: 0.4153 - accuracy: 0.8935 - val_loss: 1.2198 - val_accuracy: 0.7718\n",
            "Epoch 10/10\n",
            "225/225 [==============================] - 18s 82ms/step - loss: 0.3598 - accuracy: 0.9080 - val_loss: 1.3472 - val_accuracy: 0.7412\n",
            "71/71 [==============================] - 1s 20ms/step - loss: 1.4338 - accuracy: 0.7320\n",
            "Test acc: 0.732\n"
          ]
        }
      ],
      "source": [
        "history = model.fit(int_train_ds, validation_data=int_val_ds, epochs=10)\n",
        "print(f\"Test acc: {model.evaluate(int_test_ds)[1]:.3f}\")"
      ]
    },
    {
      "cell_type": "markdown",
      "metadata": {
        "id": "tzAr33UtEsF1"
      },
      "source": [
        "Nos sale una precisión asequible de 73,2% pero aún es mejorable"
      ]
    },
    {
      "cell_type": "markdown",
      "metadata": {
        "id": "R6EouanY8lY8"
      },
      "source": [
        "## Modelo 2"
      ]
    },
    {
      "cell_type": "markdown",
      "metadata": {
        "id": "_Dls4WaEE0qA"
      },
      "source": [
        "En este modelo hemos decido aumentar el número de cabezas a 4 y el dense_dim de 24 a 64 y reducir el embed_dim a 150 ya que en el modelo anterior este era muy elevado"
      ]
    },
    {
      "cell_type": "code",
      "execution_count": null,
      "metadata": {
        "id": "4T8eVu3y8lY8"
      },
      "outputs": [],
      "source": [
        "vocab_size = 100000\n",
        "dense_dim = 64\n",
        "embed_dim = 150\n",
        "num_heads = 4"
      ]
    },
    {
      "cell_type": "markdown",
      "metadata": {
        "id": "BioOlEQ5FRAU"
      },
      "source": [
        "Se pasa a probar el optimizador Adam que es una variación del optimizador SGD"
      ]
    },
    {
      "cell_type": "code",
      "execution_count": null,
      "metadata": {
        "id": "Al4D0mWJ8lY8",
        "outputId": "3236beab-8e06-4dbd-dc65-b0f3cb22aa01"
      },
      "outputs": [
        {
          "name": "stdout",
          "output_type": "stream",
          "text": [
            "Model: \"model_9\"\n",
            "_________________________________________________________________\n",
            " Layer (type)                Output Shape              Param #   \n",
            "=================================================================\n",
            " input_11 (InputLayer)       [(None, None)]            0         \n",
            "                                                                 \n",
            " positional_embedding_9 (Po  (None, None, 150)         15021900  \n",
            " sitionalEmbedding)                                              \n",
            "                                                                 \n"
          ]
        },
        {
          "name": "stdout",
          "output_type": "stream",
          "text": [
            " transformer_encoder_9 (Tra  (None, None, 150)         381964    \n",
            " nsformerEncoder)                                                \n",
            "                                                                 \n",
            " global_max_pooling1d_9 (Gl  (None, 150)               0         \n",
            " obalMaxPooling1D)                                               \n",
            "                                                                 \n",
            " dropout_13 (Dropout)        (None, 150)               0         \n",
            "                                                                 \n",
            " dense_29 (Dense)            (None, 46)                6946      \n",
            "                                                                 \n",
            "=================================================================\n",
            "Total params: 15410810 (58.79 MB)\n",
            "Trainable params: 15410810 (58.79 MB)\n",
            "Non-trainable params: 0 (0.00 Byte)\n",
            "_________________________________________________________________\n"
          ]
        }
      ],
      "source": [
        "inputs = keras.Input(shape=(None,), dtype=\"int64\")\n",
        "x = layers.Embedding(vocab_size, embed_dim)(inputs)\n",
        "x = PositionalEmbedding(max_length, vocab_size, embed_dim)(inputs)\n",
        "x = TransformerEncoder(embed_dim, dense_dim, num_heads)(x)\n",
        "x = layers.GlobalMaxPooling1D()(x)\n",
        "x = layers.Dropout(0.5)(x)\n",
        "outputs = layers.Dense(46, activation=\"softmax\")(x)\n",
        "\n",
        "model = keras.Model(inputs, outputs)\n",
        "model.compile(optimizer=\"adam\",\n",
        "              loss=\"sparse_categorical_crossentropy\",\n",
        "              metrics=[\"accuracy\"])\n",
        "model.summary()"
      ]
    },
    {
      "cell_type": "markdown",
      "metadata": {
        "id": "EYJ2P_U1FZu4"
      },
      "source": [
        "Se aumentan el número de épocas a 15"
      ]
    },
    {
      "cell_type": "code",
      "execution_count": null,
      "metadata": {
        "id": "bDmUnqQi8lY8",
        "outputId": "ebfdd76e-a53f-4e38-b1e3-e8e0af87bb92"
      },
      "outputs": [
        {
          "name": "stdout",
          "output_type": "stream",
          "text": [
            "Epoch 1/15\n"
          ]
        },
        {
          "name": "stdout",
          "output_type": "stream",
          "text": [
            "225/225 [==============================] - 36s 154ms/step - loss: 2.3905 - accuracy: 0.4789 - val_loss: 1.5338 - val_accuracy: 0.6439\n",
            "Epoch 2/15\n",
            "225/225 [==============================] - 34s 150ms/step - loss: 1.3557 - accuracy: 0.6880 - val_loss: 1.0737 - val_accuracy: 0.7479\n",
            "Epoch 3/15\n",
            "225/225 [==============================] - 34s 152ms/step - loss: 0.9067 - accuracy: 0.7833 - val_loss: 0.9958 - val_accuracy: 0.7863\n",
            "Epoch 4/15\n",
            "225/225 [==============================] - 34s 153ms/step - loss: 0.6266 - accuracy: 0.8397 - val_loss: 1.0064 - val_accuracy: 0.7913\n",
            "Epoch 5/15\n",
            "225/225 [==============================] - 34s 151ms/step - loss: 0.4398 - accuracy: 0.8846 - val_loss: 1.1792 - val_accuracy: 0.7835\n",
            "Epoch 6/15\n",
            "225/225 [==============================] - 41s 183ms/step - loss: 0.3225 - accuracy: 0.9162 - val_loss: 1.2744 - val_accuracy: 0.7702\n",
            "Epoch 7/15\n",
            "225/225 [==============================] - 45s 201ms/step - loss: 0.2409 - accuracy: 0.9336 - val_loss: 1.2895 - val_accuracy: 0.7652\n",
            "Epoch 8/15\n",
            "225/225 [==============================] - 43s 190ms/step - loss: 0.2086 - accuracy: 0.9450 - val_loss: 1.3875 - val_accuracy: 0.7596\n",
            "Epoch 9/15\n",
            "225/225 [==============================] - 42s 185ms/step - loss: 0.1791 - accuracy: 0.9491 - val_loss: 1.4866 - val_accuracy: 0.7579\n",
            "Epoch 10/15\n",
            "225/225 [==============================] - 45s 201ms/step - loss: 0.1552 - accuracy: 0.9548 - val_loss: 1.4500 - val_accuracy: 0.7590\n",
            "Epoch 11/15\n",
            "225/225 [==============================] - 42s 188ms/step - loss: 0.1403 - accuracy: 0.9546 - val_loss: 1.4811 - val_accuracy: 0.7624\n",
            "Epoch 12/15\n",
            "225/225 [==============================] - 43s 191ms/step - loss: 0.1342 - accuracy: 0.9580 - val_loss: 1.5437 - val_accuracy: 0.7462\n",
            "Epoch 13/15\n",
            "225/225 [==============================] - 41s 183ms/step - loss: 0.1266 - accuracy: 0.9580 - val_loss: 1.4822 - val_accuracy: 0.7596\n",
            "Epoch 14/15\n",
            "225/225 [==============================] - 35s 155ms/step - loss: 0.1170 - accuracy: 0.9605 - val_loss: 1.5061 - val_accuracy: 0.7585\n",
            "Epoch 15/15\n",
            "225/225 [==============================] - 36s 158ms/step - loss: 0.1137 - accuracy: 0.9596 - val_loss: 1.6700 - val_accuracy: 0.7513\n",
            "71/71 [==============================] - 2s 22ms/step - loss: 1.7607 - accuracy: 0.7538\n",
            "Test acc: 0.754\n"
          ]
        }
      ],
      "source": [
        "history = model.fit(int_train_ds, validation_data=int_val_ds, epochs=15)\n",
        "print(f\"Test acc: {model.evaluate(int_test_ds)[1]:.3f}\")"
      ]
    },
    {
      "cell_type": "markdown",
      "metadata": {
        "id": "wsbMOBTkGupB"
      },
      "source": [
        "Este modelo ha mejorado en un 2% al primer modelo ya que ahora nuestro accuracy es de 75,38%"
      ]
    },
    {
      "cell_type": "markdown",
      "metadata": {
        "id": "0ADYe5rr8lY9"
      },
      "source": [
        "## Modelo 3"
      ]
    },
    {
      "cell_type": "markdown",
      "metadata": {
        "id": "9iSVks97Ffd5"
      },
      "source": [
        "Para este tercer modelo se siguen aumentando el número de cabezas y el dense_dim ya que nos ha dado resultados y el embed_dim se mantiene prácticamente igual"
      ]
    },
    {
      "cell_type": "code",
      "execution_count": null,
      "metadata": {
        "id": "u_sD2LXU8lY9"
      },
      "outputs": [],
      "source": [
        "vocab_size = 100000\n",
        "dense_dim = 128\n",
        "embed_dim = 200\n",
        "num_heads = 6"
      ]
    },
    {
      "cell_type": "code",
      "execution_count": null,
      "metadata": {
        "id": "8J6J1Ynz8lY-",
        "outputId": "f1600753-2ee1-4d3a-ee3f-ef6590c57ab3"
      },
      "outputs": [
        {
          "name": "stdout",
          "output_type": "stream",
          "text": [
            "Model: \"model_12\"\n",
            "_________________________________________________________________\n",
            " Layer (type)                Output Shape              Param #   \n",
            "=================================================================\n",
            " input_14 (InputLayer)       [(None, None)]            0         \n",
            "                                                                 \n",
            " positional_embedding_12 (P  (None, None, 200)         20029200  \n",
            " ositionalEmbedding)                                             \n",
            "                                                                 \n",
            " transformer_encoder_12 (Tr  (None, None, 200)         1016128   \n",
            " ansformerEncoder)                                               \n",
            "                                                                 \n",
            " global_max_pooling1d_12 (G  (None, 200)               0         \n",
            " lobalMaxPooling1D)                                              \n",
            "                                                                 \n",
            " dropout_16 (Dropout)        (None, 200)               0         \n",
            "                                                                 \n",
            " dense_38 (Dense)            (None, 46)                9246      \n",
            "                                                                 \n",
            "=================================================================\n",
            "Total params: 21054574 (80.32 MB)\n",
            "Trainable params: 21054574 (80.32 MB)\n",
            "Non-trainable params: 0 (0.00 Byte)\n",
            "_________________________________________________________________\n"
          ]
        }
      ],
      "source": [
        "inputs = keras.Input(shape=(None,), dtype=\"int64\")\n",
        "x = layers.Embedding(vocab_size, embed_dim)(inputs)\n",
        "x = PositionalEmbedding(max_length, vocab_size, embed_dim)(inputs)\n",
        "x = TransformerEncoder(embed_dim, dense_dim, num_heads)(x)\n",
        "x = layers.GlobalMaxPooling1D()(x)\n",
        "x = layers.Dropout(0.5)(x)\n",
        "outputs = layers.Dense(46, activation=\"softmax\")(x)\n",
        "\n",
        "model = keras.Model(inputs, outputs)\n",
        "model.compile(optimizer=\"rmsprop\",\n",
        "              loss=\"sparse_categorical_crossentropy\",\n",
        "              metrics=[\"accuracy\"])\n",
        "model.summary()"
      ]
    },
    {
      "cell_type": "markdown",
      "metadata": {
        "id": "nqUEhBC2F7uu"
      },
      "source": [
        "Se sigue aumentando el número de épocas para ver si se genera sobreentrenamientoo si el modelo sigue aprendiendo correctamente"
      ]
    },
    {
      "cell_type": "code",
      "execution_count": null,
      "metadata": {
        "id": "ZstcrJKw8lY-",
        "outputId": "f10bb14a-f720-40e2-f1d6-200fa1fe7367"
      },
      "outputs": [
        {
          "name": "stdout",
          "output_type": "stream",
          "text": [
            "Epoch 1/20\n"
          ]
        },
        {
          "name": "stdout",
          "output_type": "stream",
          "text": [
            "225/225 [==============================] - 36s 158ms/step - loss: 2.2432 - accuracy: 0.5056 - val_loss: 1.4697 - val_accuracy: 0.6400\n",
            "Epoch 2/20\n",
            "225/225 [==============================] - 35s 155ms/step - loss: 1.3617 - accuracy: 0.6900 - val_loss: 1.1517 - val_accuracy: 0.7140\n",
            "Epoch 3/20\n",
            "225/225 [==============================] - 35s 155ms/step - loss: 1.0596 - accuracy: 0.7518 - val_loss: 1.0376 - val_accuracy: 0.7496\n",
            "Epoch 4/20\n",
            "225/225 [==============================] - 35s 155ms/step - loss: 0.8491 - accuracy: 0.7953 - val_loss: 0.9810 - val_accuracy: 0.7629\n",
            "Epoch 5/20\n",
            "225/225 [==============================] - 35s 155ms/step - loss: 0.7012 - accuracy: 0.8221 - val_loss: 1.0276 - val_accuracy: 0.7618\n",
            "Epoch 6/20\n",
            "225/225 [==============================] - 35s 155ms/step - loss: 0.5800 - accuracy: 0.8607 - val_loss: 1.0190 - val_accuracy: 0.7691\n",
            "Epoch 7/20\n",
            "225/225 [==============================] - 35s 156ms/step - loss: 0.4791 - accuracy: 0.8802 - val_loss: 1.2397 - val_accuracy: 0.7418\n",
            "Epoch 8/20\n",
            "225/225 [==============================] - 35s 155ms/step - loss: 0.4202 - accuracy: 0.8969 - val_loss: 1.2113 - val_accuracy: 0.7668\n",
            "Epoch 9/20\n",
            "225/225 [==============================] - 35s 155ms/step - loss: 0.3673 - accuracy: 0.9087 - val_loss: 1.2847 - val_accuracy: 0.7585\n",
            "Epoch 10/20\n",
            "225/225 [==============================] - 35s 155ms/step - loss: 0.3378 - accuracy: 0.9179 - val_loss: 1.1241 - val_accuracy: 0.7668\n",
            "Epoch 11/20\n",
            "225/225 [==============================] - 35s 155ms/step - loss: 0.2873 - accuracy: 0.9273 - val_loss: 1.2525 - val_accuracy: 0.7613\n",
            "Epoch 12/20\n",
            "225/225 [==============================] - 35s 156ms/step - loss: 0.2681 - accuracy: 0.9301 - val_loss: 1.2535 - val_accuracy: 0.7540\n",
            "Epoch 13/20\n",
            "225/225 [==============================] - 35s 155ms/step - loss: 0.2400 - accuracy: 0.9396 - val_loss: 1.4923 - val_accuracy: 0.7429\n",
            "Epoch 14/20\n",
            "225/225 [==============================] - 35s 156ms/step - loss: 0.2262 - accuracy: 0.9420 - val_loss: 1.3829 - val_accuracy: 0.7446\n",
            "Epoch 15/20\n",
            "225/225 [==============================] - 35s 155ms/step - loss: 0.2068 - accuracy: 0.9453 - val_loss: 1.3726 - val_accuracy: 0.7479\n",
            "Epoch 16/20\n",
            "225/225 [==============================] - 35s 156ms/step - loss: 0.1929 - accuracy: 0.9495 - val_loss: 1.4662 - val_accuracy: 0.7574\n",
            "Epoch 17/20\n",
            "225/225 [==============================] - 35s 156ms/step - loss: 0.1816 - accuracy: 0.9530 - val_loss: 1.5495 - val_accuracy: 0.7251\n",
            "Epoch 18/20\n",
            "225/225 [==============================] - 35s 156ms/step - loss: 0.1753 - accuracy: 0.9556 - val_loss: 1.5316 - val_accuracy: 0.7423\n",
            "Epoch 19/20\n",
            "225/225 [==============================] - 36s 158ms/step - loss: 0.1599 - accuracy: 0.9553 - val_loss: 1.5069 - val_accuracy: 0.7507\n",
            "Epoch 20/20\n",
            "225/225 [==============================] - 36s 159ms/step - loss: 0.1566 - accuracy: 0.9578 - val_loss: 1.6392 - val_accuracy: 0.7134\n",
            "71/71 [==============================] - 3s 44ms/step - loss: 1.7373 - accuracy: 0.7115\n",
            "Test acc: 0.711\n"
          ]
        }
      ],
      "source": [
        "history = model.fit(int_train_ds, validation_data=int_val_ds, epochs=20)\n",
        "print(f\"Test acc: {model.evaluate(int_test_ds)[1]:.3f}\")"
      ]
    },
    {
      "cell_type": "markdown",
      "metadata": {
        "id": "wiO0DAQqGeHt"
      },
      "source": [
        "Se puede deducir que esta configuración no es del todo buena ya la precisión ha bajado a 71,1%"
      ]
    },
    {
      "cell_type": "markdown",
      "metadata": {
        "id": "y0j3ymN68lY-"
      },
      "source": [
        "## Modelo 4"
      ]
    },
    {
      "cell_type": "markdown",
      "metadata": {
        "id": "xUyIfuv7G7jx"
      },
      "source": [
        "Para el último modelo probamos una configuración completamente distinta a las demás"
      ]
    },
    {
      "cell_type": "code",
      "execution_count": null,
      "metadata": {
        "id": "AR2xJGES8lY-"
      },
      "outputs": [],
      "source": [
        "vocab_size = 100000\n",
        "dense_dim = 32\n",
        "embed_dim = 512\n",
        "num_heads = 8"
      ]
    },
    {
      "cell_type": "code",
      "execution_count": null,
      "metadata": {
        "id": "ptEJJ_6T8lY-",
        "outputId": "d81aa35d-18d6-4293-ad8b-9c2a1da618d3"
      },
      "outputs": [
        {
          "name": "stdout",
          "output_type": "stream",
          "text": [
            "Model: \"model_13\"\n",
            "_________________________________________________________________\n",
            " Layer (type)                Output Shape              Param #   \n",
            "=================================================================\n",
            " input_15 (InputLayer)       [(None, None)]            0         \n",
            "                                                                 \n",
            " positional_embedding_13 (P  (None, None, 512)         51274752  \n",
            " ositionalEmbedding)                                             \n",
            "                                                                 \n",
            " transformer_encoder_13 (Tr  (None, None, 512)         8436768   \n",
            " ansformerEncoder)                                               \n",
            "                                                                 \n",
            " global_max_pooling1d_13 (G  (None, 512)               0         \n",
            " lobalMaxPooling1D)                                              \n",
            "                                                                 \n",
            " dropout_17 (Dropout)        (None, 512)               0         \n",
            "                                                                 \n",
            " dense_41 (Dense)            (None, 46)                23598     \n",
            "                                                                 \n",
            "=================================================================\n",
            "Total params: 59735118 (227.87 MB)\n",
            "Trainable params: 59735118 (227.87 MB)\n",
            "Non-trainable params: 0 (0.00 Byte)\n",
            "_________________________________________________________________\n"
          ]
        }
      ],
      "source": [
        "inputs = keras.Input(shape=(None,), dtype=\"int64\")\n",
        "x = layers.Embedding(vocab_size, embed_dim)(inputs)\n",
        "x = PositionalEmbedding(max_length, vocab_size, embed_dim)(inputs)\n",
        "x = TransformerEncoder(embed_dim, dense_dim, num_heads)(x)\n",
        "x = layers.GlobalMaxPooling1D()(x)\n",
        "x = layers.Dropout(0.5)(x)\n",
        "outputs = layers.Dense(46, activation=\"softmax\")(x)\n",
        "\n",
        "model = keras.Model(inputs, outputs)\n",
        "model.compile(optimizer=\"adam\",\n",
        "              loss=\"sparse_categorical_crossentropy\",\n",
        "              metrics=[\"accuracy\"])\n",
        "model.summary()"
      ]
    },
    {
      "cell_type": "markdown",
      "metadata": {
        "id": "1-KKAwvUHDAH"
      },
      "source": [
        "Hemos reducido drásticamente el número de épocas a 5"
      ]
    },
    {
      "cell_type": "code",
      "execution_count": null,
      "metadata": {
        "id": "FZlMsHN98lY_",
        "outputId": "a426ef79-efe1-4ad5-e813-6455f56c2be5"
      },
      "outputs": [
        {
          "name": "stdout",
          "output_type": "stream",
          "text": [
            "Epoch 1/5\n"
          ]
        },
        {
          "name": "stdout",
          "output_type": "stream",
          "text": [
            "225/225 [==============================] - 211s 939ms/step - loss: 2.0846 - accuracy: 0.5553 - val_loss: 1.3891 - val_accuracy: 0.6806\n",
            "Epoch 2/5\n",
            "225/225 [==============================] - 226s 1s/step - loss: 1.1560 - accuracy: 0.7349 - val_loss: 1.2651 - val_accuracy: 0.7373\n",
            "Epoch 3/5\n",
            "225/225 [==============================] - 325s 1s/step - loss: 0.7030 - accuracy: 0.8262 - val_loss: 1.2621 - val_accuracy: 0.7563\n",
            "Epoch 4/5\n",
            "225/225 [==============================] - 269s 1s/step - loss: 0.4857 - accuracy: 0.8736 - val_loss: 1.3374 - val_accuracy: 0.7663\n",
            "Epoch 5/5\n",
            "225/225 [==============================] - 209s 928ms/step - loss: 0.3563 - accuracy: 0.9044 - val_loss: 1.3705 - val_accuracy: 0.7691\n",
            "71/71 [==============================] - 14s 193ms/step - loss: 1.4966 - accuracy: 0.7538\n",
            "Test acc: 0.754\n"
          ]
        }
      ],
      "source": [
        "history = model.fit(int_train_ds, validation_data=int_val_ds, epochs=5)\n",
        "print(f\"Test acc: {model.evaluate(int_test_ds)[1]:.3f}\")"
      ]
    },
    {
      "cell_type": "markdown",
      "metadata": {
        "id": "2Dr36E9VHMTg"
      },
      "source": [
        "Este modelo nos ha dado el mayor accuracy (75,4%) por lo cuál nos quedaremos con este, además es el modelo que menos tarda en ejecutarse debido al número tan reducido de épocas"
      ]
    }
  ],
  "metadata": {
    "accelerator": "GPU",
    "colab": {
      "provenance": []
    },
    "gpuClass": "standard",
    "kernelspec": {
      "display_name": "Python 3",
      "language": "python",
      "name": "python3"
    },
    "language_info": {
      "codemirror_mode": {
        "name": "ipython",
        "version": 3
      },
      "file_extension": ".py",
      "mimetype": "text/x-python",
      "name": "python",
      "nbconvert_exporter": "python",
      "pygments_lexer": "ipython3",
      "version": "3.11.0"
    }
  },
  "nbformat": 4,
  "nbformat_minor": 0
}
